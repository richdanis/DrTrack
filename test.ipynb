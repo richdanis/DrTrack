{
 "cells": [
  {
   "cell_type": "code",
   "execution_count": 1,
   "metadata": {},
   "outputs": [
    {
     "name": "stdout",
     "output_type": "stream",
     "text": [
      "Intel MKL WARNING: Support of Intel(R) Streaming SIMD Extensions 4.2 (Intel(R) SSE4.2) enabled only processors has been deprecated. Intel oneAPI Math Kernel Library 2025.0 will require Intel(R) Advanced Vector Extensions (Intel(R) AVX) instructions.\n",
      "Intel MKL WARNING: Support of Intel(R) Streaming SIMD Extensions 4.2 (Intel(R) SSE4.2) enabled only processors has been deprecated. Intel oneAPI Math Kernel Library 2025.0 will require Intel(R) Advanced Vector Extensions (Intel(R) AVX) instructions.\n"
     ]
    }
   ],
   "source": [
    "from pathlib import Path\n",
    "import pandas as pd"
   ]
  },
  {
   "cell_type": "code",
   "execution_count": 2,
   "metadata": {},
   "outputs": [],
   "source": [
    "# [\"05min\", \"15min\", \"30min\"]\n",
    "\n",
    "true_freq = \"01min\"\n",
    "sample_freq = \"05min\""
   ]
  },
  {
   "cell_type": "code",
   "execution_count": 3,
   "metadata": {},
   "outputs": [],
   "source": [
    "sub_sample = {\"05min\": 4, \"15min\": 12, \"30min\": 24}\n",
    "sub_sample_freq = sub_sample[sample_freq]"
   ]
  },
  {
   "cell_type": "code",
   "execution_count": 4,
   "metadata": {},
   "outputs": [],
   "source": [
    "folder = Path(\"../Clips_Ines2_results\")\n",
    "experiment = folder / Path(\"Exp2_01_MedMov_LargeDrop_results\")\n",
    "ground_truth = experiment / Path(\"01min\")\n",
    "sample = experiment / Path(sample_freq)"
   ]
  },
  {
   "cell_type": "code",
   "execution_count": 5,
   "metadata": {},
   "outputs": [],
   "source": [
    "dropped_merging = \"dropped_merging_trajectories_y0_x0_basic.csv\"\n",
    "dropped_trajectories = \"dropped_trajectories_y0_x0_basic.csv\"\n",
    "filtered_trajectories = \"filtered_trajectories_y0_x0_basic.csv\"\n",
    "mvt_unfiltered_trajectories = \"mvt_unfiltered_trajectories_y0_x0.csv\"\n",
    "unfiltered_trajectories = \"unfiltered_trajectories_y0_x0.csv\""
   ]
  },
  {
   "cell_type": "code",
   "execution_count": 6,
   "metadata": {},
   "outputs": [],
   "source": [
    "true_traj = pd.read_csv(ground_truth / unfiltered_trajectories)\n",
    "sample_traj = pd.read_csv(sample / unfiltered_trajectories)\n",
    "\n",
    "# drop all columns that include the word \"nr_cells\" and \"p\"\n",
    "true_traj = true_traj.drop(columns=[col for col in true_traj.columns if \"nr_cells\" in col or \"p\" in col]).drop(columns=[\"full_trajectory_uncertainty\"])\n",
    "sample_traj = sample_traj.drop(columns=[col for col in sample_traj.columns if \"nr_cells\" in col or \"p\" in col]).drop(columns=[\"full_trajectory_uncertainty\"])"
   ]
  },
  {
   "cell_type": "code",
   "execution_count": 7,
   "metadata": {},
   "outputs": [],
   "source": [
    "def swap_columns(df, col1, col2):\n",
    "    columns = list(df.columns)\n",
    "    col1_idx, col2_idx = columns.index(col1), columns.index(col2)\n",
    "    columns[col1_idx], columns[col2_idx] = columns[col2_idx], columns[col1_idx]\n",
    "    return df[columns]\n",
    "\n",
    "# Using the function to swap columns 'C' and 'D'\n",
    "true_traj = swap_columns(true_traj, 'y0', 'x0')\n",
    "sample_traj = swap_columns(sample_traj, 'y0', 'x0')"
   ]
  },
  {
   "cell_type": "code",
   "execution_count": 8,
   "metadata": {},
   "outputs": [],
   "source": [
    "one, two = [f'x{i}' for i in range(0, 82, sub_sample_freq)], [f'y{i}' for i in range(0, 82, sub_sample_freq)]\n",
    "tmp = [f'id_{i}' for i in range(0, 82, sub_sample_freq)] + [item for pair in zip(one, two) for item in pair]\n",
    "true_traj_sub = true_traj[tmp]"
   ]
  },
  {
   "cell_type": "code",
   "execution_count": 9,
   "metadata": {},
   "outputs": [],
   "source": [
    "def intersection(lst1, lst2):\n",
    "    return list(set(lst1) & set(lst2))\n",
    "\n",
    "for i in range(0, 82, sub_sample_freq):\n",
    "\n",
    "    true = true_traj_sub[[f'id_{i}', f'x{i}', f'y{i}']]\n",
    "    sample = sample_traj[[f'id_{i//sub_sample_freq}', f'x{i//sub_sample_freq}', f'y{i//sub_sample_freq}']]\n",
    "\n",
    "    common = intersection(true[f'id_{i}'], sample[f'id_{i//sub_sample_freq}'])\n",
    "\n",
    "    for c in common:\n",
    "        true_idx = true[true[f'id_{i}'] == c].index[0]\n",
    "        sample_idx = sample[sample[f'id_{i//sub_sample_freq}'] == c].index[0]\n",
    "\n",
    "        assert int(true.loc[true_idx, f'x{i}']) == int(sample.loc[sample_idx, f'x{i//sub_sample_freq}'])\n",
    "        assert int(true.loc[true_idx, f'y{i}']) == int(sample.loc[sample_idx, f'y{i//sub_sample_freq}'])"
   ]
  },
  {
   "cell_type": "code",
   "execution_count": 10,
   "metadata": {},
   "outputs": [
    {
     "name": "stdout",
     "output_type": "stream",
     "text": [
      "62.57939\n"
     ]
    }
   ],
   "source": [
    "# iterate over all rows in the sub-sampled data-frame\n",
    "counter = 0\n",
    "\n",
    "for ((index_true, traj_true), (index_sample, traj_sample)) in zip(true_traj_sub.iterrows(), sample_traj.iterrows()):\n",
    "\n",
    "    # count the number of same trajectories by comparing the id's\n",
    "    same = True\n",
    "    for i in range(0, 82, sub_sample_freq):\n",
    "        if int(traj_true[f'id_{i}']) != int(traj_sample[f'id_{i//sub_sample_freq}']):\n",
    "            same = False\n",
    "    \n",
    "    if same:\n",
    "        counter += 1\n",
    "\n",
    "print(f'{(counter / len(true_traj_sub) * 100):.5f}')"
   ]
  },
  {
   "cell_type": "code",
   "execution_count": 11,
   "metadata": {},
   "outputs": [],
   "source": [
    "# 05min - 62.57939\n",
    "# 15min - 53.08751\n",
    "# 30min - 54.81651"
   ]
  }
 ],
 "metadata": {
  "kernelspec": {
   "display_name": "dsl",
   "language": "python",
   "name": "python3"
  },
  "language_info": {
   "codemirror_mode": {
    "name": "ipython",
    "version": 3
   },
   "file_extension": ".py",
   "mimetype": "text/x-python",
   "name": "python",
   "nbconvert_exporter": "python",
   "pygments_lexer": "ipython3",
   "version": "3.10.5"
  }
 },
 "nbformat": 4,
 "nbformat_minor": 2
}
