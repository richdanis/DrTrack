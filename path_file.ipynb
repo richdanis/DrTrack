{
 "cells": [
  {
   "cell_type": "code",
   "execution_count": 5,
   "metadata": {},
   "outputs": [],
   "source": [
    "import numpy as np\n",
    "import pandas as pd\n",
    "\n",
    "file = np.load(\"patches_small_mvt_1_y0_x0.npy\", allow_pickle=True)\n",
    "df = pd.DataFrame(file, index=None, columns=None)"
   ]
  }
 ],
 "metadata": {
  "kernelspec": {
   "display_name": "eth_dsl",
   "language": "python",
   "name": "python3"
  },
  "language_info": {
   "codemirror_mode": {
    "name": "ipython",
    "version": 3
   },
   "file_extension": ".py",
   "mimetype": "text/x-python",
   "name": "python",
   "nbconvert_exporter": "python",
   "pygments_lexer": "ipython3",
   "version": "3.9.16"
  }
 },
 "nbformat": 4,
 "nbformat_minor": 2
}
